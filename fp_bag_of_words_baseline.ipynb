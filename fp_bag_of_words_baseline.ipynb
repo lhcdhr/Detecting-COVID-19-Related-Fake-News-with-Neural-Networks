{
  "cells": [
    {
      "cell_type": "code",
      "execution_count": 2,
      "id": "95570c1b-e2f4-4ae8-9b48-ace945fe21d3",
      "metadata": {
        "id": "95570c1b-e2f4-4ae8-9b48-ace945fe21d3"
      },
      "outputs": [],
      "source": [
        "import pandas as pd\n",
        "import nltk\n",
        "import numpy as np\n",
        "from nltk.stem import \tWordNetLemmatizer\n",
        "from nltk.stem.porter import PorterStemmer\n",
        "from nltk.corpus import stopwords\n",
        "stop_words = set(stopwords.words('english'))\n",
        "wordnet_lemmatizer = WordNetLemmatizer()\n",
        "porter_stemmer  = PorterStemmer()\n",
        "import preprocessor as p\n",
        "#from preprocessor.api import clean, tokenize, parse,set_options\n",
        "import re\n",
        "from string import punctuation"
      ]
    },
    {
      "cell_type": "code",
      "execution_count": 3,
      "id": "c19c3bac-212e-4111-ab39-5fb65baab087",
      "metadata": {
        "id": "c19c3bac-212e-4111-ab39-5fb65baab087"
      },
      "outputs": [],
      "source": [
        "from nltk.tokenize.toktok import ToktokTokenizer\n",
        "from nltk.tokenize import word_tokenize\n",
        "from sklearn.feature_extraction.text import CountVectorizer\n",
        "from sklearn.model_selection import KFold, cross_val_score\n",
        "from sklearn.linear_model import LogisticRegression\n",
        "from sklearn.metrics import classification_report,confusion_matrix,accuracy_score"
      ]
    },
    {
      "cell_type": "code",
      "execution_count": 4,
      "id": "0cc14f6b-314d-4eef-9873-f0588fa5faa5",
      "metadata": {
        "id": "0cc14f6b-314d-4eef-9873-f0588fa5faa5"
      },
      "outputs": [],
      "source": [
        "p.set_options(p.OPT.URL, p.OPT.EMOJI, p.OPT.MENTION, p.OPT.HASHTAG)"
      ]
    },
    {
      "cell_type": "code",
      "execution_count": 5,
      "id": "944a1132-586e-4ba0-8b5f-6205c45735f1",
      "metadata": {
        "id": "944a1132-586e-4ba0-8b5f-6205c45735f1"
      },
      "outputs": [],
      "source": [
        "df = pd.read_csv(\"data/Constraint_Train.csv\")\n",
        "val_df = pd.read_csv(\"data/Constraint_Val.csv\")\n",
        "test_df = pd.read_csv(\"data/Constraint_Test.csv\")\n",
        "test_label = pd.read_csv(\"data/english_test_with_labels.csv\")"
      ]
    },
    {
      "cell_type": "code",
      "source": [
        "print(df['tweet'])\n",
        "print(df['tweet'][6416])"
      ],
      "metadata": {
        "colab": {
          "base_uri": "https://localhost:8080/"
        },
        "id": "4RBr-rLTHsw3",
        "outputId": "706c0a99-3169-452f-8179-4b7f3c58c2b7"
      },
      "id": "4RBr-rLTHsw3",
      "execution_count": 6,
      "outputs": [
        {
          "output_type": "stream",
          "name": "stdout",
          "text": [
            "0       The CDC currently reports 99031 deaths. In gen...\n",
            "1       States reported 1121 deaths a small rise from ...\n",
            "2       Politically Correct Woman (Almost) Uses Pandem...\n",
            "3       #IndiaFightsCorona: We have 1524 #COVID testin...\n",
            "4       Populous states can generate large case counts...\n",
            "                              ...                        \n",
            "6415    A tiger tested positive for COVID-19 please st...\n",
            "6416    ???Autopsies prove that COVID-19 is??� a blood...\n",
            "6417    _A post claims a COVID-19 vaccine has already ...\n",
            "6418    Aamir Khan Donate 250 Cr. In PM Relief Cares Fund\n",
            "6419    It has been 93 days since the last case of COV...\n",
            "Name: tweet, Length: 6420, dtype: object\n",
            "???Autopsies prove that COVID-19 is??� a blood clot, not pneumonia, ???and ought to be fought with antibiotics??� and the whole world has been wrong in treating the ???so-called??� pandemic.\n"
          ]
        }
      ]
    },
    {
      "cell_type": "code",
      "execution_count": 8,
      "id": "8ee9133e-80ed-4afd-816f-279c64cd5896",
      "metadata": {
        "id": "8ee9133e-80ed-4afd-816f-279c64cd5896"
      },
      "outputs": [],
      "source": [
        "def preprocess(instance):\n",
        "  x = instance['tweet']\n",
        "  # text = text.strip('\\xa0')\n",
        "  x = p.clean(x)\n",
        "  tokenization = nltk.word_tokenize(x)     \n",
        "  tokenization = [w for w in tokenization if not w in stop_words]\n",
        "#   text = ' '.join([porter_stemmer.stem(w) for w in tokenization])\n",
        "#   text = ' '.join([lemmatizer.lemmatize(w) for w in tokenization])\n",
        "#   text = re.sub(r'\\([0-9]+\\)', '', text).strip()    \n",
        "  return x\n",
        "\n",
        "def relabel(instance):\n",
        "    new_l=0\n",
        "    if instance ['label']=='real':\n",
        "        new_l=1\n",
        "    return new_l\n",
        "\n",
        "df.apply(lambda x: preprocess(x),1)\n",
        "\n",
        "df['label_encoded'] = df.apply(lambda x: relabel(x), 1)\n",
        "val_df['label_encoded'] = val_df.apply(lambda x: relabel(x), 1)\n",
        "test_df['label_encoded'] = test_label.apply(lambda x: relabel(x), 1)"
      ]
    },
    {
      "cell_type": "code",
      "source": [
        "print(df['tweet'])"
      ],
      "metadata": {
        "colab": {
          "base_uri": "https://localhost:8080/"
        },
        "id": "tSgJX1gJHftt",
        "outputId": "d7cd22d1-d546-4190-9d5a-fb6e65843148"
      },
      "id": "tSgJX1gJHftt",
      "execution_count": null,
      "outputs": [
        {
          "output_type": "stream",
          "name": "stdout",
          "text": [
            "0       The CDC currently reports 99031 deaths. In gen...\n",
            "1       States reported 1121 deaths a small rise from ...\n",
            "2       Politically Correct Woman (Almost) Uses Pandem...\n",
            "3       #IndiaFightsCorona: We have 1524 #COVID testin...\n",
            "4       Populous states can generate large case counts...\n",
            "                              ...                        \n",
            "6415    A tiger tested positive for COVID-19 please st...\n",
            "6416    ???Autopsies prove that COVID-19 is??� a blood...\n",
            "6417    _A post claims a COVID-19 vaccine has already ...\n",
            "6418    Aamir Khan Donate 250 Cr. In PM Relief Cares Fund\n",
            "6419    It has been 93 days since the last case of COV...\n",
            "Name: tweet, Length: 6420, dtype: object\n"
          ]
        }
      ]
    },
    {
      "cell_type": "code",
      "source": [
        "def remove_punctuations(sentence):\n",
        "    for p in punctuation:\n",
        "        sentence = sentence.replace(p,'')\n",
        "    return sentence\n",
        "def to_lower_case(sentence):\n",
        "    return sentence.lower()\n",
        "\n"
      ],
      "metadata": {
        "id": "N3GgyY5_4lpk"
      },
      "id": "N3GgyY5_4lpk",
      "execution_count": null,
      "outputs": []
    },
    {
      "cell_type": "code",
      "source": [
        "real = 0\n",
        "fake = 0\n",
        "for i in range(6420):\n",
        "    if(df['label_encoded'][i]==1):\n",
        "        real = real+1\n",
        "    else:\n",
        "        fake = fake+1\n",
        "print(real)\n",
        "print(fake)\n",
        "real = 0\n",
        "fake = 0\n",
        "for i in range(2140):\n",
        "    if(val_df['label_encoded'][i]==1):\n",
        "        real = real+1\n",
        "    else:\n",
        "        fake = fake+1\n",
        "print(real)\n",
        "print(fake)\n",
        "real = 0\n",
        "fake = 0\n",
        "for i in range(2140):\n",
        "    if(test_df['label_encoded'][i]==1):\n",
        "        real = real+1\n",
        "    else:\n",
        "        fake = fake+1\n",
        "print(real)\n",
        "print(fake)\n",
        "for i in range(6420):\n",
        "    if(len(df['tweet'][i])>2000):\n",
        "        print(i)\n",
        "        print(df['tweet'][i])"
      ],
      "metadata": {
        "colab": {
          "base_uri": "https://localhost:8080/"
        },
        "id": "tI5DsHfu72gM",
        "outputId": "b73514fb-da65-4e18-e421-de68a6980707"
      },
      "id": "tI5DsHfu72gM",
      "execution_count": 19,
      "outputs": [
        {
          "output_type": "stream",
          "name": "stdout",
          "text": [
            "3360\n",
            "3060\n",
            "1120\n",
            "1020\n",
            "1120\n",
            "1020\n",
            "270\n",
            "Amoxi\" Capsule made in US is the only medicine that can completely cure COVID-19.\n",
            "Egyptian Health Minister arrive in Italy with secret coronavirus cure.\n",
            " Dr Charles Lieber a Harvard professor has been arrested in the USA for manufacturing the coronavirus and selling it to China. A video news report from WCVB a TV station in Boston Massachusetts is shared with the Facebook post.\n",
            "Mountain Matterhorn in Switzerland was lit in three colours of Indian flag as a token of gratitude to India for sending Hydroxychloroquine.\n",
            "Al-Azhar Imam said he is considering exceptions on Ramadan fasting as the research says that the mouth must be kept wet to prevent COVID-19\n",
            " Japanese Nobel Tasuku Honjo says coronavirus was created in the Wuhan laboratory\n",
            "A man collapses in 5 minutes after showing COVID-19 symptoms in India.\n",
            "Celebrities spreading misinformation about coronavirus and the Janata curfew in India.\n",
            " Multiple posts shared repeatedly on Facebook and Twitter since March 2020 claim that Israel has reported zero deaths from the novel coronavirus which causes the disease COVID-19. The posts also claim Israeli citizens have protected themselves from COVID-19 by drinking a remedy of hot water lemon and baking soda which purportedly “kills” the virus.\n",
            " CDC suddenly lost 30000 deaths from coronavirus from its data thus proving the virus is not as serious as it seems.\n",
            "Photos of coronavirus patients being treated on the road in Italy.\n",
            "Indian actor Shah Rukh Khan donated money to Pakistan to fight coronavirus and did not help India at all.\n",
            "Russian President Vladimir Putin has ordered Russia’s population to stay at home for 15 days or face five years in jail.\n",
            "Indian Army has set-up a 1000 bed quarantine facility in Rajasthan's Barmer.\n",
            "Leonardo Da Vinci Hospital a COVID-19 reference hospital in Fortaleza Brazil is empty. A video \"proves\" there was no one at the areas open to the public.\n",
            " President Trump's claim that he inherited no ventilators from the Obama administration.\n",
            "An audio where an unidentified person links the virus that causes COVID-19 with the massive flu vaccination campaign.\n",
            "Black body bags being referred to as deaths in New York and the reason a lockdown is essential.\n",
            "Mustard oil prevents a person from getting infected with COVID-19.\n",
            "North Carolina’s health department is \"telling hospitals that if they decide to do elective surgeries they won’t be eligible to receive (protective equipment) from the state.”\n",
            " After coronavirus pandemic Chinese president said it's China's time to lead the world.\n",
            "The nurses that Boris Johnson claimed saved his life are not registered in the UK.\n",
            "A claim that India’s Ministry of Home Affairs has made it a “punishable offense” for citizens to publish posts on social media about the novel coronavirus has been shared repeatedly on Facebook Twitter and WhatsApp.\n",
            " Says Nancy Pelosi was “caught trying to include abortion funding in bill to combat coronavirus.”\n",
            "A video of a man rebuking foreigners has been viewed thousands of times on social media alongside a claim that the Guinean government has ordered the arrest of all Chinese nationals in the country while awaiting the safe return of Guineans from China.\n",
            " The U.S. is the only country on earth that is protesting being locked down.\n",
            "Photo of Kurnool MLA (Hafeez Khan) making a nurse to touch the feet of a religious head in Viswabharathi Medical College who had to come to the COVID-19 quarantine facility.\n",
            "New York State Governor shows data that proves that isolation is ineffective against COVID-19.\n",
            "Homeopathic product Oscillococcinum protects against COVID-19.\n",
            "CDC admitted to lying about COVID-19 death stats.\n",
            "Notice for preparing emergency drugs was released on social media for alumni of Seoul National University College of Medicine.\n",
            "Belgian doctors turn their back on WHO director.\n",
            "Dr. Li Wenliang (the Chinese whistleblower doctor) has proposed that drinking tea can cure COVID-19.\n",
            "Any person arrested for violating lockdown in the night will not get bail until the lockdown is over in the state of Gujarat in India.\n",
            " US President Donald Trump tested positive for COVID-19.\n",
            "A picture with a quote from doctor Vincenzo Puro who allegedly said that asymptomatic people cannot infect others that the virus is not lethal and that the pandemic is a \"hoax\".\n",
            " Prince Charles recovered from COVID-19 with the help of Ayurvedic treatment.\n",
            " A video shows a Superintendent of police announcing the extension of Lokckdown in Maharashtra India till May 30.\n",
            " A WhatsApp audio claims that the Infanta Sofía Hospital in Madrid has 15 children in serious condition due to COVID-19 and that there are three other children in the Talavera de la Reina Hospital.\n",
            "Video shows coronavirus patients and doctors.\n",
            "A video claims to show that the Nigerian government has spent US$2 million to \"import\" Chinese doctors and supplies.\n",
            "Riots in London due to the unavailability of food items. The United Kingdom will be locked down by tonight. Army soldiers take to the UK streets.\n",
            "A set of claims passed as instructions to be followed during the COVID-19 pandemic period.\n",
            " Facebook post claims that the Latvian app Apturi Covid (Stop Covid) which was created to warn people who have been close to an infected person will be used so the government can track all the people from the contact list and record their locations.\n",
            "Aaj Tak channel aired a program that said drinking alcohol or smoking weed can cure COVID-19.\n",
            " President Donald Trump tweeted “Coronavirus vaccine from Israel! Stock market up! Economy even stronger now! Besides US Israel best at inventions: Judaism olives. Wonderful vaccine will stop Corona DEAD around world. Can’t make vaccines when being bombed not have been possible without peace I created in Israel!”\n",
            "Italy official Giulio Gallera: China lies to us. The date China provided is false. Italy has become Wuhan and the medical system has a breakdown.\n",
            "João Doria governor of São Paulo forbade doctors to give chloroquine to COVID-19 patients.\n",
            "A blog post has been shared thousands of times in multiple Facebook posts which claim it shows a video of a baby who died after being infected with the novel coronavirus which causes the disease COVID-19.\n",
            " A vaccine for coronavirus was available since 2001.\n",
            " Video showing policemen picking banknotes with sticks linking it with coronavirus.\n",
            "We can't make a vaccine that works for flu no vaccine for the respiratory syncytial virus (RSV) and we can't cure cancer. Yet somehow scientists can make a vaccine for COVID-19 in six months?\n",
            "Mumbai and Pune is going under military lockdown\n",
            "What we need to do to defeat the coronavirus is to consume more alkaline foods above the virus’ pH level.\n",
            "Indian Actor Aamir Khan gives Rs. 15000 to poor people in 1Kg wheat flour.\n",
            " The photo shows the funeral of Turkish deceased general Aytac Yalman due to COVID-19.\n",
            "The coronavirus responsible for COVID-19 is a mix of SARS and HIV.\n",
            "Two doctors in Bakersfield California said at a press conference that isolation measures affect the immune system and that unrestrictive controls in countries like Sweden have worked.\n",
            " Article says that the Vatican confirmed that the Pope and two assistants have coronavirus.\n",
            "Herbal tea made of malunggay and kamias leaves is a cure for COVID-19 the disease caused by the novel coronavirus.\n",
            "A video of police officers immobilizing a screaming woman. The caption states that they were being beaten by the police because they refuse to go to their houses during lockdown in Minas Gerais Brazil\n",
            " Cuba's low number of COVID-19 deaths is due to its use of hydroxychloroquine to treat patients\n",
            "A video of the doctor linked to the anti-vaccine movement Chinda Brandolino on the origin of COVID-19.\n",
            " There is a confirmed case of coronavirus in a Bogotá hospital.\n",
            "A video showing migrant laborers from Surat city in India are being sent back to Surat after their home states refused to take them back at the state border.\n",
            "Ohio Gov. Mike DeWine released 4300 prisoners and is now warning residents of a possible crime wave.\n",
            " It's not a virus but 5G that is causing disease and deaths\n",
            "An arrest by the Federal Bureau of Investigation (FBI) of a professor who had ties to China is connected to the coronavirus pandemic.\n",
            "A photo of a list of purported symptoms and treatments for the novel coronavirus which causes the disease COVID-19 has been shared hundreds of times in multiple posts on Facebook Twitter and Instagram. The purported remedies include a daily dose of vitamins; exposure to sunlight; and a diet of alkaline foods.\n",
            " Police catches coronavirus positive patient on the road.\n",
            " In the 30-second viral video a man lifts his shirt and challenges aa police officer who is pointing a gun at him. Another police officer kicks the man from behind pins him down on the road and makes an arrest. The text overlaid on the video reads \"Italy says lockdown they mean it.\n",
            "1109\n",
            "Actors\" applauded Macron when he visited the suburban city of Pantin near Paris.\n",
            " A video of a man in front of the Pacaembu Stadium in São Paulo where a field hospital for COVID-19 patients was built. He claims that since there's no movement in the entrance no one waiting to get in there's no one inside either.\n",
            " The dean of the College of Biologists of Euskadi states that there are a lot of PCR false positives and asymptomatic don't spread coronavirus.\n",
            " In Nagpur's Medical Hospital the kidney of the patient was removed and the excuse was made that the patient had corona.\n",
            " With the novel coronavirus sending the US economy into freefall posts that list phone numbers for job seekers to call and find work have been shared thousands of times on Facebook and Instagram.\n",
            "People in Italy are threw away their money after they lost their family members to coronavirus.\n",
            "COVID-19 is human-made and an American biological weapon\n",
            "“Fish tank additive may treat coronavirus.”\n",
            " “Everyone is only dying of coronavirus now.”\n",
            "There has been no death due to COVID-19 in Israel as they mix lemon and baking soda in their tea. This combination kills coronavirus.\n",
            " A alleged tweet from General Heleno Minister of Institutional Security (sort of like Ministry for the Interior) in Brazil. It says COVID-19 is not strong since he himself and president Jair Bolsonaro had it and recovered easily. Bolsonaro always denied having COVID-19.\n",
            " A post says that Donald Trump has said on March 17th that people who never died before are dying now.\n",
            " There is no home vaccination against coronavirus in Cuba.\n",
            " Picture shows clothes of those who have died of coronavirus in China. Beijing is now shipping these clothes to Africa.\n",
            "An American CEO drew the Indian map comparing the population of each Indian state to that of countries across the world highlighting how India is indirectly handling the COVID-19 crisis of so many countries.\n",
            "A picture showing many hospital beds with patients on it concentrated in very small area. The caption states that this is how public health was like in Brazil in 2016 but the media never talked about it.\n",
            "President Barack Obama “waited six months to call swine flu an emergency after thousands died.”\n",
            " The men of India's railway minister demanding money from helpless workers for walking on the tracks.\n",
            "These are doctors in Tijuana taking a nap on the floor of a hospital.\n",
            "Photo of a mannequin being wheeled into a hospital shows the COVID-19 coverup.\n",
            " Four people have died in Zanzibar after handling a chicken infected with COVID-19.\n",
            "Post says no one has died from the coronavirus in the United States.\n",
            " Video showing a Muslim man throwing notes to spread coronavirus\n",
            "Industrialist Ratan Tata's view on economic downfall due to COVID-19.\n",
            "If you can hold your breath for 10 seconds then you don't have fibrosis and therefore no infection. Picture of text in English describing the method.\n",
            "“Hydroxychloroquine cures this ‘virus.’ It just so happens this is the treatment used for radiation sickness!!”\n",
            " Senegalese doctor says chloroquine is the secret for a very low number of deaths by COVID-19 in Senegal.\n",
            "Medical report of Hospital General Universitario Santa Lucía de Cartagena (Murcia) from a person with possible coronavirus.\n",
            " The NBA is asking President Donald Trump to “resign or we’ll never play again.”\n",
            "Image of a critically ill COVID-19 infected woman hugging her child for the last time before her death\n",
            "“Every election year has a disease” -- SARS in 2004; avian flu in 2008; swine flu in 2010; MERS in 2012; Ebola in 2014 and 2018; Zika in 2016 and the coronavirus in 2020.\n",
            " Details of three coronavirus positive cases reported in Kothapet (Hyderabad India).\n",
            "All social media group admins are requested to close their groups for two days.\n",
            " João Doria governor of São Paulo caught COVID-19 while isolated. He also took a Chinese vaccine that is being tested in Brazil\n",
            "An Instagram post claims Microsoft founder Bill Gates said up to 700000 people could die from a COVID-19 vaccine.\n",
            "Priyanka Gandhi has started buses to help migrants travel during the COVID-19 lockdown.\n",
            "A claim was made that India found a cure to coronavirus\n",
            " Saddam Hussein talked about coronavirus to his cabinet and army in the nineties. He said that America has threatened him to spread this virus if he doesn't follow their command.\n",
            "A photo has been shared hundreds of times on Facebook and Twitter alongside a claim it shows a nurse apologising to a Muslim man after she blamed the Muslim community for spreading COVID-19 in India. The posts claim the nurse was forced to apologise by a local politician.\n",
            "A document that talks about the benefits of wine to prevent coronavirus.\n",
            "Pregnant women must undergo a caesarean section during the pandemic.\n",
            "“All U.S. citizens are entitled to $700 USD per week to stay at home to avoid the spread of COVID-19 novel coronavirus starting 3/17/20.”\n",
            " A picture with a quote attributed to Bill Gates stating: \"The vaccine won't be safe but let's get it out quickly anyway and worry about the consequences later\n",
            "6306\n",
            "Man visited Albany N.Y. days before dying from coronavirus.”\n",
            "A video (allegedly) of the Hospital das Clínicas São Paulo. It shows an empty waiting room. The person filming says that the government is lying when it says there are COVID-19 patients in the hospital.\n",
            "US state-owned media-services provider Nites TV is now free for everyone to encourage people to stay home.\n",
            " 31 coronavirus patients have recovered in Ghana.\n",
            "Claims that drinking boiled garlic water cures novel coronavirus.\n",
            "The total number of COVID-19 deaths decreased in Manaus Brazil from 150 to 2 after a visit from health minister Nelson Teich. This happened because he started to investigate fraudulent deaths.\n",
            " 30 cases of new coronavirus in the city of Barranquilla in Colombia.\n",
            "Mumbai city's municipal body asks people to drink boiled water as a remedy to coronavirus.\n",
            " Trump claims Speaker Nancy Pelosi deleted a tweet about her visit to Chinatown in February\n",
            " Some reporters visited the British Prime Minister Boris Johnson after he recovered from his illness. His home looks like an old abandoned military hut with very old brick walls. The living room was too small so brought out the tea tray for the reporters. All the cups are different. He met them with disheveled hair and casual clothes but with the confident smile of a Prime Minister\n",
            " The Bill and Melinda Gates Foundation headquarters is called the \"Centre for Global Human Population Reduction\".\n",
            "Doctors cannon lose their professional license for refusing to prescribe hydroxychloroquine.\n",
            "Mass disinfection of people using a chemical solution will eradicate COVID-19 .\n",
            " The image shows COVID-19 patients and the state of coronavirus isolation ward in Pakistan.\n",
            "A viral image of a doctor who died from treating patients with coronavirus at the Llano de Corrientes Hospital Argentina.\n",
            "Fennel tea is a cure against the new coronavirus.\n",
            "Komal Mishra a staff nurse at a hospital in Pune India died while due to coronavirus.\n",
            " Tablik Jamaat Chief Maulana Saad: \"If 70000 people get coronavirus India will be destroyed. The country will be in our possession.\n"
          ]
        }
      ]
    },
    {
      "cell_type": "code",
      "execution_count": null,
      "id": "8935b4f3-48b8-42d3-a61f-964848eeab8d",
      "metadata": {
        "id": "8935b4f3-48b8-42d3-a61f-964848eeab8d"
      },
      "outputs": [],
      "source": [
        "df['tweet'] = df.apply(lambda x: preprocess(x), 1)\n",
        "df['tweet'] = df['tweet'].apply(remove_punctuations)\n",
        "df['tweet'] = df['tweet'].apply(to_lower_case)\n",
        "val_df['tweet'] = val_df.apply(lambda x: preprocess(x), 1)\n",
        "val_df['tweet'] = val_df['tweet'].apply(remove_punctuations)\n",
        "val_df['tweet'] = val_df['tweet'].apply(to_lower_case)\n",
        "test_df['tweet'] = test_df.apply(lambda x: preprocess(x), 1)\n",
        "test_df['tweet'] = test_df['tweet'].apply(remove_punctuations)\n",
        "test_df['tweet'] = test_df['tweet'].apply(to_lower_case)\n"
      ]
    },
    {
      "cell_type": "code",
      "source": [
        "print(df['tweet'])\n",
        "print(val_df['tweet'])\n",
        "print(test_df['tweet'])"
      ],
      "metadata": {
        "colab": {
          "base_uri": "https://localhost:8080/"
        },
        "id": "wPrPiLZ7FnKU",
        "outputId": "3c510093-22d5-4e3c-b9c4-d4f93d04ec25"
      },
      "id": "wPrPiLZ7FnKU",
      "execution_count": null,
      "outputs": [
        {
          "output_type": "stream",
          "name": "stdout",
          "text": [
            "0       the cdc currently reports 99031 deaths in gene...\n",
            "1       states reported 1121 deaths a small rise from ...\n",
            "2       politically correct woman almost uses pandemic...\n",
            "3        we have 1524 testing laboratories in india an...\n",
            "4       populous states can generate large case counts...\n",
            "                              ...                        \n",
            "6415    a tiger tested positive for covid19 please sta...\n",
            "6416    autopsies prove that covid19 is a blood clot n...\n",
            "6417    a post claims a covid19 vaccine has already be...\n",
            "6418     aamir khan donate 250 cr in pm relief cares fund\n",
            "6419    it has been 93 days since the last case of cov...\n",
            "Name: tweet, Length: 6420, dtype: object\n",
            "0       chinese converting to islam after realising th...\n",
            "1       11 out of 13 people from the diamond princess ...\n",
            "2       covid19 is caused by a bacterium not virus and...\n",
            "3       mike pence in rnc speech praises donald trumps...\n",
            "4       610 skys explains the latest data and governme...\n",
            "                              ...                        \n",
            "2135    donald trump wrongly claimed that new zealand ...\n",
            "2136    current understanding is spreads mostly from p...\n",
            "2137    nothing screams i am sat around doing fuck all...\n",
            "2138    birx says covid19 outbreak not under control b...\n",
            "2139    another 4422 new coronavirus cases have been c...\n",
            "Name: tweet, Length: 2140, dtype: object\n",
            "0       our daily update is published states reported ...\n",
            "1                    alfalfa is the only cure for covid19\n",
            "2       president trump asked what he would do if he w...\n",
            "3       states reported 630 deaths we are still seeing...\n",
            "4       this is the sixth time a global health emergen...\n",
            "                              ...                        \n",
            "2135     statewise details of total confirmed cases ti...\n",
            "2136    tonight 12midnight onwards disaster management...\n",
            "2137    296 new cases of  plateau85 enugu46 oyo31 lago...\n",
            "2138    rt   onestop shop for resources has a section ...\n",
            "2139    more than half of pregnant women recently admi...\n",
            "Name: tweet, Length: 2140, dtype: object\n"
          ]
        }
      ]
    },
    {
      "cell_type": "code",
      "source": [
        "all_tweets=pd.concat([df['tweet'],val_df['tweet'],test_df['tweet']])\n",
        "print(all_tweets.shape)"
      ],
      "metadata": {
        "id": "AgvRR3Kq2OmO",
        "colab": {
          "base_uri": "https://localhost:8080/"
        },
        "outputId": "74fee62b-cd5b-4e2d-bbd2-ac28386eceb2"
      },
      "id": "AgvRR3Kq2OmO",
      "execution_count": null,
      "outputs": [
        {
          "output_type": "stream",
          "name": "stdout",
          "text": [
            "(10700,)\n"
          ]
        }
      ]
    },
    {
      "cell_type": "code",
      "source": [
        "all_tweets[0]=all_tweets[0].astype(\"str\")\n",
        "cv=CountVectorizer(lowercase = True,ngram_range=(1,1))\n",
        "cv_mixed = cv.fit_transform(all_tweets)"
      ],
      "metadata": {
        "id": "TGPzhCw4-eN9"
      },
      "id": "TGPzhCw4-eN9",
      "execution_count": null,
      "outputs": []
    },
    {
      "cell_type": "code",
      "source": [
        "print(all_tweets)\n",
        "#print(cv_mixed)"
      ],
      "metadata": {
        "colab": {
          "base_uri": "https://localhost:8080/"
        },
        "id": "swZnNGbm3KZZ",
        "outputId": "d34bc5ec-7172-4e01-c972-b876689500f0"
      },
      "id": "swZnNGbm3KZZ",
      "execution_count": null,
      "outputs": [
        {
          "output_type": "stream",
          "name": "stdout",
          "text": [
            "0       the cdc currently reports 99031 deaths in gene...\n",
            "1       states reported 1121 deaths a small rise from ...\n",
            "2       politically correct woman almost uses pandemic...\n",
            "3        we have 1524 testing laboratories in india an...\n",
            "4       populous states can generate large case counts...\n",
            "                              ...                        \n",
            "2135     statewise details of total confirmed cases ti...\n",
            "2136    tonight 12midnight onwards disaster management...\n",
            "2137    296 new cases of  plateau85 enugu46 oyo31 lago...\n",
            "2138    rt   onestop shop for resources has a section ...\n",
            "2139    more than half of pregnant women recently admi...\n",
            "Name: tweet, Length: 10700, dtype: object\n"
          ]
        }
      ]
    },
    {
      "cell_type": "code",
      "source": [
        "print(df.shape)\n",
        "print(val_df.shape)\n",
        "print(test_df.shape)"
      ],
      "metadata": {
        "colab": {
          "base_uri": "https://localhost:8080/"
        },
        "id": "6uJoVj-l74i6",
        "outputId": "203f26ea-72c2-4b18-e36a-08284f991a65"
      },
      "id": "6uJoVj-l74i6",
      "execution_count": null,
      "outputs": [
        {
          "output_type": "stream",
          "name": "stdout",
          "text": [
            "(6420, 4)\n",
            "(2140, 4)\n",
            "(2140, 2)\n"
          ]
        }
      ]
    },
    {
      "cell_type": "code",
      "execution_count": null,
      "id": "fc1bfb4d-67ca-4541-9e2d-cf6445a5c9e3",
      "metadata": {
        "id": "fc1bfb4d-67ca-4541-9e2d-cf6445a5c9e3"
      },
      "outputs": [],
      "source": [
        "train_sentences = cv_mixed[:6420]\n",
        "val_sentences = cv_mixed[6420:(6420+2140)]\n",
        "test_sentences = cv_mixed[(6420+2140):]\n",
        "\n",
        "train_labels = df['label_encoded']\n",
        "val_labels = val_df['label_encoded']\n",
        "test_labels = test_df['label_encoded']"
      ]
    },
    {
      "cell_type": "code",
      "source": [
        "def train(train_data,train_result):\n",
        "    lr_model = LogisticRegression(penalty = 'l2', max_iter=200, C=1,random_state = 1)\n",
        "    lr_model_train = lr_model.fit(train_data, train_result)\n",
        "    lr_model_test = lr_model.predict(train_data)\n",
        "    lr_model_score = accuracy_score(train_result,lr_model_test)\n",
        "    return lr_model_score\n",
        "\n",
        "def test(train_data,train_result,test_data,test_result):\n",
        "    lr_model = LogisticRegression(penalty = 'l2', max_iter=200, C=1,random_state = 1)\n",
        "    lr_model_train = lr_model.fit(train_data, train_result)\n",
        "    lr_model_test = lr_model.predict(test_data)\n",
        "    lr_model_score = accuracy_score(test_result,lr_model_test)\n",
        "    return lr_model_score"
      ],
      "metadata": {
        "id": "yY5yTx2G0ZPL"
      },
      "id": "yY5yTx2G0ZPL",
      "execution_count": null,
      "outputs": []
    },
    {
      "cell_type": "code",
      "source": [
        "train_score = train(train_sentences,train_labels)\n",
        "print(train_score)"
      ],
      "metadata": {
        "colab": {
          "base_uri": "https://localhost:8080/"
        },
        "id": "aex2Sh3A9E1I",
        "outputId": "e2ba930f-261a-4965-d572-470113aa9a30"
      },
      "id": "aex2Sh3A9E1I",
      "execution_count": null,
      "outputs": [
        {
          "output_type": "stream",
          "name": "stdout",
          "text": [
            "0.9914330218068536\n"
          ]
        }
      ]
    },
    {
      "cell_type": "code",
      "source": [
        "val_score = test(train_sentences,train_labels,val_sentences,val_labels)\n",
        "print(val_score)"
      ],
      "metadata": {
        "colab": {
          "base_uri": "https://localhost:8080/"
        },
        "id": "P9JpNwo3Ab4S",
        "outputId": "d4d1e3dc-fcba-433c-c876-26645f318648"
      },
      "id": "P9JpNwo3Ab4S",
      "execution_count": null,
      "outputs": [
        {
          "output_type": "stream",
          "name": "stdout",
          "text": [
            "0.9280373831775701\n"
          ]
        }
      ]
    },
    {
      "cell_type": "code",
      "source": [
        "test_score = test(train_sentences,train_labels,test_sentences,test_labels)\n",
        "print(test_score)"
      ],
      "metadata": {
        "colab": {
          "base_uri": "https://localhost:8080/"
        },
        "id": "7y9xd3thmFpK",
        "outputId": "f5961169-916e-4d8b-9ff6-16d489e034c0"
      },
      "id": "7y9xd3thmFpK",
      "execution_count": null,
      "outputs": [
        {
          "output_type": "stream",
          "name": "stdout",
          "text": [
            "0.9205607476635514\n"
          ]
        }
      ]
    }
  ],
  "metadata": {
    "kernelspec": {
      "display_name": "Python 3 (ipykernel)",
      "language": "python",
      "name": "python3"
    },
    "language_info": {
      "codemirror_mode": {
        "name": "ipython",
        "version": 3
      },
      "file_extension": ".py",
      "mimetype": "text/x-python",
      "name": "python",
      "nbconvert_exporter": "python",
      "pygments_lexer": "ipython3",
      "version": "3.9.5"
    },
    "colab": {
      "name": "550fp_logistic_regression_baseline.ipynb",
      "provenance": [],
      "collapsed_sections": []
    }
  },
  "nbformat": 4,
  "nbformat_minor": 5
}